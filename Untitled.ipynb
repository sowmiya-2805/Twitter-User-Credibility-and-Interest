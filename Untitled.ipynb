{
 "cells": [
  {
   "cell_type": "code",
   "execution_count": 219,
   "metadata": {
    "collapsed": true
   },
   "outputs": [],
   "source": [
    "import numpy as np"
   ]
  },
  {
   "cell_type": "code",
   "execution_count": 220,
   "metadata": {
    "collapsed": true
   },
   "outputs": [],
   "source": [
    "import pandas as pd"
   ]
  },
  {
   "cell_type": "code",
   "execution_count": 221,
   "metadata": {
    "collapsed": true
   },
   "outputs": [],
   "source": [
    "users=pd.read_csv('/home/HDUSER/users.csv')"
   ]
  },
  {
   "cell_type": "code",
   "execution_count": 222,
   "metadata": {
    "collapsed": true
   },
   "outputs": [],
   "source": [
    "news=pd.read_csv('/home/HDUSER/news.csv')"
   ]
  },
  {
   "cell_type": "code",
   "execution_count": 223,
   "metadata": {},
   "outputs": [
    {
     "data": {
      "text/plain": [
       "(10, 7)"
      ]
     },
     "execution_count": 223,
     "metadata": {},
     "output_type": "execute_result"
    }
   ],
   "source": [
    "users.shape"
   ]
  },
  {
   "cell_type": "code",
   "execution_count": 224,
   "metadata": {},
   "outputs": [
    {
     "data": {
      "text/html": [
       "<div>\n",
       "<style>\n",
       "    .dataframe thead tr:only-child th {\n",
       "        text-align: right;\n",
       "    }\n",
       "\n",
       "    .dataframe thead th {\n",
       "        text-align: left;\n",
       "    }\n",
       "\n",
       "    .dataframe tbody tr th {\n",
       "        vertical-align: top;\n",
       "    }\n",
       "</style>\n",
       "<table border=\"1\" class=\"dataframe\">\n",
       "  <thead>\n",
       "    <tr style=\"text-align: right;\">\n",
       "      <th></th>\n",
       "      <th>user_id</th>\n",
       "      <th>tweet_id</th>\n",
       "      <th>tweet</th>\n",
       "      <th>summary</th>\n",
       "      <th>date</th>\n",
       "      <th>retweets</th>\n",
       "      <th>favorites</th>\n",
       "    </tr>\n",
       "  </thead>\n",
       "  <tbody>\n",
       "    <tr>\n",
       "      <th>0</th>\n",
       "      <td>xyz123</td>\n",
       "      <td>22</td>\n",
       "      <td>president trump visited china. Hope will have ...</td>\n",
       "      <td>president trump visit china success US</td>\n",
       "      <td>09/11/17</td>\n",
       "      <td>78</td>\n",
       "      <td>56</td>\n",
       "    </tr>\n",
       "    <tr>\n",
       "      <th>1</th>\n",
       "      <td>yudi</td>\n",
       "      <td>14</td>\n",
       "      <td>Earthquake magnitude 8.5 in North India, epice...</td>\n",
       "      <td>Earthquake Delhi 8.5 North India</td>\n",
       "      <td>05/11/17</td>\n",
       "      <td>2</td>\n",
       "      <td>4</td>\n",
       "    </tr>\n",
       "    <tr>\n",
       "      <th>2</th>\n",
       "      <td>abc123</td>\n",
       "      <td>11</td>\n",
       "      <td>Roughly speaking, level of pollution in some p...</td>\n",
       "      <td>Pollution Delhi Smoking Cigarettes Smog</td>\n",
       "      <td>09/11/17</td>\n",
       "      <td>32</td>\n",
       "      <td>29</td>\n",
       "    </tr>\n",
       "    <tr>\n",
       "      <th>3</th>\n",
       "      <td>alpha</td>\n",
       "      <td>10</td>\n",
       "      <td>Halloween party for kids in USA organized. Cho...</td>\n",
       "      <td>Halloween party kids USA chocolates sweets</td>\n",
       "      <td>10/11/17</td>\n",
       "      <td>42</td>\n",
       "      <td>41</td>\n",
       "    </tr>\n",
       "    <tr>\n",
       "      <th>4</th>\n",
       "      <td>beta</td>\n",
       "      <td>1</td>\n",
       "      <td>prisoners can't move freely. None of us have e...</td>\n",
       "      <td>Rohtak jail prisoner out on bail|prisoners fre...</td>\n",
       "      <td>09/11/17</td>\n",
       "      <td>75</td>\n",
       "      <td>21</td>\n",
       "    </tr>\n",
       "  </tbody>\n",
       "</table>\n",
       "</div>"
      ],
      "text/plain": [
       "  user_id  tweet_id                                              tweet  \\\n",
       "0  xyz123        22  president trump visited china. Hope will have ...   \n",
       "1    yudi        14  Earthquake magnitude 8.5 in North India, epice...   \n",
       "2  abc123        11  Roughly speaking, level of pollution in some p...   \n",
       "3   alpha        10  Halloween party for kids in USA organized. Cho...   \n",
       "4    beta         1  prisoners can't move freely. None of us have e...   \n",
       "\n",
       "                                             summary      date  retweets  \\\n",
       "0             president trump visit china success US  09/11/17        78   \n",
       "1                   Earthquake Delhi 8.5 North India  05/11/17         2   \n",
       "2            Pollution Delhi Smoking Cigarettes Smog  09/11/17        32   \n",
       "3         Halloween party kids USA chocolates sweets  10/11/17        42   \n",
       "4  Rohtak jail prisoner out on bail|prisoners fre...  09/11/17        75   \n",
       "\n",
       "   favorites  \n",
       "0         56  \n",
       "1          4  \n",
       "2         29  \n",
       "3         41  \n",
       "4         21  "
      ]
     },
     "execution_count": 224,
     "metadata": {},
     "output_type": "execute_result"
    }
   ],
   "source": [
    "users.head()"
   ]
  },
  {
   "cell_type": "code",
   "execution_count": 225,
   "metadata": {},
   "outputs": [
    {
     "data": {
      "text/plain": [
       "(20, 4)"
      ]
     },
     "execution_count": 225,
     "metadata": {},
     "output_type": "execute_result"
    }
   ],
   "source": [
    "news.shape"
   ]
  },
  {
   "cell_type": "code",
   "execution_count": 226,
   "metadata": {},
   "outputs": [
    {
     "data": {
      "text/html": [
       "<div>\n",
       "<style>\n",
       "    .dataframe thead tr:only-child th {\n",
       "        text-align: right;\n",
       "    }\n",
       "\n",
       "    .dataframe thead th {\n",
       "        text-align: left;\n",
       "    }\n",
       "\n",
       "    .dataframe tbody tr th {\n",
       "        vertical-align: top;\n",
       "    }\n",
       "</style>\n",
       "<table border=\"1\" class=\"dataframe\">\n",
       "  <thead>\n",
       "    <tr style=\"text-align: right;\">\n",
       "      <th></th>\n",
       "      <th>news_id</th>\n",
       "      <th>news_link</th>\n",
       "      <th>news_summary</th>\n",
       "      <th>date</th>\n",
       "    </tr>\n",
       "  </thead>\n",
       "  <tbody>\n",
       "    <tr>\n",
       "      <th>0</th>\n",
       "      <td>10.0</td>\n",
       "      <td>https://economictimes.indiatimes.com/news/poli...</td>\n",
       "      <td>To encourage use of public transport during Od...</td>\n",
       "      <td>09/11/17</td>\n",
       "    </tr>\n",
       "    <tr>\n",
       "      <th>1</th>\n",
       "      <td>11.0</td>\n",
       "      <td>http://www.firstpost.com/world/donald-trumps-c...</td>\n",
       "      <td>On the anniversary of his surprise victory in ...</td>\n",
       "      <td>09/11/17</td>\n",
       "    </tr>\n",
       "    <tr>\n",
       "      <th>2</th>\n",
       "      <td>12.0</td>\n",
       "      <td>https://timesofindia.indiatimes.com/pm-modi-me...</td>\n",
       "      <td>India to talk on its NSG bid with New Zealand ...</td>\n",
       "      <td>NaN</td>\n",
       "    </tr>\n",
       "    <tr>\n",
       "      <th>3</th>\n",
       "      <td>13.0</td>\n",
       "      <td>https://www.ndtv.com/tamil-nadu-news/rs-1-430-...</td>\n",
       "      <td>The raids also targetted Jaya TV which turned ...</td>\n",
       "      <td>NaN</td>\n",
       "    </tr>\n",
       "    <tr>\n",
       "      <th>4</th>\n",
       "      <td>14.0</td>\n",
       "      <td>http://www.thehindubusinessline.com/news/natio...</td>\n",
       "      <td>Congress Vice-President Rahul Gandhi continued...</td>\n",
       "      <td>NaN</td>\n",
       "    </tr>\n",
       "  </tbody>\n",
       "</table>\n",
       "</div>"
      ],
      "text/plain": [
       "   news_id                                          news_link  \\\n",
       "0     10.0  https://economictimes.indiatimes.com/news/poli...   \n",
       "1     11.0  http://www.firstpost.com/world/donald-trumps-c...   \n",
       "2     12.0  https://timesofindia.indiatimes.com/pm-modi-me...   \n",
       "3     13.0  https://www.ndtv.com/tamil-nadu-news/rs-1-430-...   \n",
       "4     14.0  http://www.thehindubusinessline.com/news/natio...   \n",
       "\n",
       "                                        news_summary      date  \n",
       "0  To encourage use of public transport during Od...  09/11/17  \n",
       "1  On the anniversary of his surprise victory in ...  09/11/17  \n",
       "2  India to talk on its NSG bid with New Zealand ...       NaN  \n",
       "3  The raids also targetted Jaya TV which turned ...       NaN  \n",
       "4  Congress Vice-President Rahul Gandhi continued...       NaN  "
      ]
     },
     "execution_count": 226,
     "metadata": {},
     "output_type": "execute_result"
    }
   ],
   "source": [
    "news.head()"
   ]
  },
  {
   "cell_type": "code",
   "execution_count": 227,
   "metadata": {
    "collapsed": true
   },
   "outputs": [],
   "source": [
    "users=users.sort_values(by=[\"user_id\"])"
   ]
  },
  {
   "cell_type": "code",
   "execution_count": 273,
   "metadata": {
    "collapsed": true
   },
   "outputs": [],
   "source": [
    "prof=pd.read_csv('/home/HDUSER/profile.csv')"
   ]
  },
  {
   "cell_type": "code",
   "execution_count": 274,
   "metadata": {
    "collapsed": true
   },
   "outputs": [],
   "source": [
    "prof=prof.sort_values(by=[\"user_id\"])"
   ]
  },
  {
   "cell_type": "code",
   "execution_count": 275,
   "metadata": {},
   "outputs": [
    {
     "data": {
      "text/html": [
       "<div>\n",
       "<style>\n",
       "    .dataframe thead tr:only-child th {\n",
       "        text-align: right;\n",
       "    }\n",
       "\n",
       "    .dataframe thead th {\n",
       "        text-align: left;\n",
       "    }\n",
       "\n",
       "    .dataframe tbody tr th {\n",
       "        vertical-align: top;\n",
       "    }\n",
       "</style>\n",
       "<table border=\"1\" class=\"dataframe\">\n",
       "  <thead>\n",
       "    <tr style=\"text-align: right;\">\n",
       "      <th></th>\n",
       "      <th>user_id</th>\n",
       "      <th>user_name</th>\n",
       "      <th>followers</th>\n",
       "      <th>following</th>\n",
       "      <th>linked</th>\n",
       "      <th>website</th>\n",
       "      <th>verified</th>\n",
       "      <th>description</th>\n",
       "    </tr>\n",
       "  </thead>\n",
       "  <tbody>\n",
       "    <tr>\n",
       "      <th>0</th>\n",
       "      <td>abc123</td>\n",
       "      <td>ABC</td>\n",
       "      <td>350</td>\n",
       "      <td>129</td>\n",
       "      <td>True</td>\n",
       "      <td>http://www.abc.blogspot.com</td>\n",
       "      <td>True</td>\n",
       "      <td>NaN</td>\n",
       "    </tr>\n",
       "    <tr>\n",
       "      <th>3</th>\n",
       "      <td>alpha</td>\n",
       "      <td>ALPHA</td>\n",
       "      <td>790</td>\n",
       "      <td>5890</td>\n",
       "      <td>False</td>\n",
       "      <td>http://www.alpha.blogspot.com</td>\n",
       "      <td>False</td>\n",
       "      <td>NaN</td>\n",
       "    </tr>\n",
       "    <tr>\n",
       "      <th>4</th>\n",
       "      <td>beta</td>\n",
       "      <td>BETA</td>\n",
       "      <td>90000</td>\n",
       "      <td>1324</td>\n",
       "      <td>True</td>\n",
       "      <td>www.beta.com</td>\n",
       "      <td>True</td>\n",
       "      <td>Famous Bollywood Actor, you must know me.</td>\n",
       "    </tr>\n",
       "    <tr>\n",
       "      <th>1</th>\n",
       "      <td>xyz123</td>\n",
       "      <td>XYZ</td>\n",
       "      <td>200</td>\n",
       "      <td>190</td>\n",
       "      <td>False</td>\n",
       "      <td>NaN</td>\n",
       "      <td>False</td>\n",
       "      <td>I love to party. Student Delhi University. Bol...</td>\n",
       "    </tr>\n",
       "    <tr>\n",
       "      <th>2</th>\n",
       "      <td>yudi</td>\n",
       "      <td>YUDI</td>\n",
       "      <td>46</td>\n",
       "      <td>700</td>\n",
       "      <td>False</td>\n",
       "      <td>NaN</td>\n",
       "      <td>False</td>\n",
       "      <td>BJP Supporter. Modi Modi Modi !</td>\n",
       "    </tr>\n",
       "  </tbody>\n",
       "</table>\n",
       "</div>"
      ],
      "text/plain": [
       "  user_id user_name  followers  following  linked  \\\n",
       "0  abc123       ABC        350        129    True   \n",
       "3   alpha     ALPHA        790       5890   False   \n",
       "4    beta      BETA      90000       1324    True   \n",
       "1  xyz123       XYZ        200        190   False   \n",
       "2    yudi      YUDI         46        700   False   \n",
       "\n",
       "                         website  verified  \\\n",
       "0    http://www.abc.blogspot.com      True   \n",
       "3  http://www.alpha.blogspot.com     False   \n",
       "4                   www.beta.com      True   \n",
       "1                            NaN     False   \n",
       "2                            NaN     False   \n",
       "\n",
       "                                         description  \n",
       "0                                                NaN  \n",
       "3                                                NaN  \n",
       "4          Famous Bollywood Actor, you must know me.  \n",
       "1  I love to party. Student Delhi University. Bol...  \n",
       "2                    BJP Supporter. Modi Modi Modi !  "
      ]
     },
     "execution_count": 275,
     "metadata": {},
     "output_type": "execute_result"
    }
   ],
   "source": [
    "prof.head()"
   ]
  },
  {
   "cell_type": "code",
   "execution_count": 276,
   "metadata": {
    "collapsed": true
   },
   "outputs": [],
   "source": [
    "prof = prof.reset_index(drop=True)"
   ]
  },
  {
   "cell_type": "code",
   "execution_count": 277,
   "metadata": {},
   "outputs": [
    {
     "data": {
      "text/html": [
       "<div>\n",
       "<style>\n",
       "    .dataframe thead tr:only-child th {\n",
       "        text-align: right;\n",
       "    }\n",
       "\n",
       "    .dataframe thead th {\n",
       "        text-align: left;\n",
       "    }\n",
       "\n",
       "    .dataframe tbody tr th {\n",
       "        vertical-align: top;\n",
       "    }\n",
       "</style>\n",
       "<table border=\"1\" class=\"dataframe\">\n",
       "  <thead>\n",
       "    <tr style=\"text-align: right;\">\n",
       "      <th></th>\n",
       "      <th>user_id</th>\n",
       "      <th>user_name</th>\n",
       "      <th>followers</th>\n",
       "      <th>following</th>\n",
       "      <th>linked</th>\n",
       "      <th>website</th>\n",
       "      <th>verified</th>\n",
       "      <th>description</th>\n",
       "    </tr>\n",
       "  </thead>\n",
       "  <tbody>\n",
       "    <tr>\n",
       "      <th>0</th>\n",
       "      <td>abc123</td>\n",
       "      <td>ABC</td>\n",
       "      <td>350</td>\n",
       "      <td>129</td>\n",
       "      <td>True</td>\n",
       "      <td>http://www.abc.blogspot.com</td>\n",
       "      <td>True</td>\n",
       "      <td>NaN</td>\n",
       "    </tr>\n",
       "    <tr>\n",
       "      <th>1</th>\n",
       "      <td>alpha</td>\n",
       "      <td>ALPHA</td>\n",
       "      <td>790</td>\n",
       "      <td>5890</td>\n",
       "      <td>False</td>\n",
       "      <td>http://www.alpha.blogspot.com</td>\n",
       "      <td>False</td>\n",
       "      <td>NaN</td>\n",
       "    </tr>\n",
       "    <tr>\n",
       "      <th>2</th>\n",
       "      <td>beta</td>\n",
       "      <td>BETA</td>\n",
       "      <td>90000</td>\n",
       "      <td>1324</td>\n",
       "      <td>True</td>\n",
       "      <td>www.beta.com</td>\n",
       "      <td>True</td>\n",
       "      <td>Famous Bollywood Actor, you must know me.</td>\n",
       "    </tr>\n",
       "    <tr>\n",
       "      <th>3</th>\n",
       "      <td>xyz123</td>\n",
       "      <td>XYZ</td>\n",
       "      <td>200</td>\n",
       "      <td>190</td>\n",
       "      <td>False</td>\n",
       "      <td>NaN</td>\n",
       "      <td>False</td>\n",
       "      <td>I love to party. Student Delhi University. Bol...</td>\n",
       "    </tr>\n",
       "    <tr>\n",
       "      <th>4</th>\n",
       "      <td>yudi</td>\n",
       "      <td>YUDI</td>\n",
       "      <td>46</td>\n",
       "      <td>700</td>\n",
       "      <td>False</td>\n",
       "      <td>NaN</td>\n",
       "      <td>False</td>\n",
       "      <td>BJP Supporter. Modi Modi Modi !</td>\n",
       "    </tr>\n",
       "  </tbody>\n",
       "</table>\n",
       "</div>"
      ],
      "text/plain": [
       "  user_id user_name  followers  following  linked  \\\n",
       "0  abc123       ABC        350        129    True   \n",
       "1   alpha     ALPHA        790       5890   False   \n",
       "2    beta      BETA      90000       1324    True   \n",
       "3  xyz123       XYZ        200        190   False   \n",
       "4    yudi      YUDI         46        700   False   \n",
       "\n",
       "                         website  verified  \\\n",
       "0    http://www.abc.blogspot.com      True   \n",
       "1  http://www.alpha.blogspot.com     False   \n",
       "2                   www.beta.com      True   \n",
       "3                            NaN     False   \n",
       "4                            NaN     False   \n",
       "\n",
       "                                         description  \n",
       "0                                                NaN  \n",
       "1                                                NaN  \n",
       "2          Famous Bollywood Actor, you must know me.  \n",
       "3  I love to party. Student Delhi University. Bol...  \n",
       "4                    BJP Supporter. Modi Modi Modi !  "
      ]
     },
     "execution_count": 277,
     "metadata": {},
     "output_type": "execute_result"
    }
   ],
   "source": [
    "prof.head()"
   ]
  },
  {
   "cell_type": "code",
   "execution_count": 228,
   "metadata": {},
   "outputs": [
    {
     "data": {
      "text/html": [
       "<div>\n",
       "<style>\n",
       "    .dataframe thead tr:only-child th {\n",
       "        text-align: right;\n",
       "    }\n",
       "\n",
       "    .dataframe thead th {\n",
       "        text-align: left;\n",
       "    }\n",
       "\n",
       "    .dataframe tbody tr th {\n",
       "        vertical-align: top;\n",
       "    }\n",
       "</style>\n",
       "<table border=\"1\" class=\"dataframe\">\n",
       "  <thead>\n",
       "    <tr style=\"text-align: right;\">\n",
       "      <th></th>\n",
       "      <th>user_id</th>\n",
       "      <th>tweet_id</th>\n",
       "      <th>tweet</th>\n",
       "      <th>summary</th>\n",
       "      <th>date</th>\n",
       "      <th>retweets</th>\n",
       "      <th>favorites</th>\n",
       "    </tr>\n",
       "  </thead>\n",
       "  <tbody>\n",
       "    <tr>\n",
       "      <th>2</th>\n",
       "      <td>abc123</td>\n",
       "      <td>11</td>\n",
       "      <td>Roughly speaking, level of pollution in some p...</td>\n",
       "      <td>Pollution Delhi Smoking Cigarettes Smog</td>\n",
       "      <td>09/11/17</td>\n",
       "      <td>32</td>\n",
       "      <td>29</td>\n",
       "    </tr>\n",
       "    <tr>\n",
       "      <th>6</th>\n",
       "      <td>abc123</td>\n",
       "      <td>3</td>\n",
       "      <td>Three properties in the name of #DawoodIbrahim...</td>\n",
       "      <td>properties DawoodIbrahim relatives auctioned I...</td>\n",
       "      <td>09/11/17</td>\n",
       "      <td>12</td>\n",
       "      <td>41</td>\n",
       "    </tr>\n",
       "    <tr>\n",
       "      <th>3</th>\n",
       "      <td>alpha</td>\n",
       "      <td>10</td>\n",
       "      <td>Halloween party for kids in USA organized. Cho...</td>\n",
       "      <td>Halloween party kids USA chocolates sweets</td>\n",
       "      <td>10/11/17</td>\n",
       "      <td>42</td>\n",
       "      <td>41</td>\n",
       "    </tr>\n",
       "    <tr>\n",
       "      <th>7</th>\n",
       "      <td>alpha</td>\n",
       "      <td>4</td>\n",
       "      <td>Court in #Bihar's Bettiah orders filing of FIR...</td>\n",
       "      <td>Court Bihar Bettiah FIR Farooq Abdullah treaso...</td>\n",
       "      <td>10/11/17</td>\n",
       "      <td>96</td>\n",
       "      <td>23</td>\n",
       "    </tr>\n",
       "    <tr>\n",
       "      <th>8</th>\n",
       "      <td>alpha</td>\n",
       "      <td>5</td>\n",
       "      <td>Income Tax officials say unaccounted income of...</td>\n",
       "      <td>IncomeTax unaccounted income 1400 crore uneart...</td>\n",
       "      <td>09/11/17</td>\n",
       "      <td>197</td>\n",
       "      <td>250</td>\n",
       "    </tr>\n",
       "  </tbody>\n",
       "</table>\n",
       "</div>"
      ],
      "text/plain": [
       "  user_id  tweet_id                                              tweet  \\\n",
       "2  abc123        11  Roughly speaking, level of pollution in some p...   \n",
       "6  abc123         3  Three properties in the name of #DawoodIbrahim...   \n",
       "3   alpha        10  Halloween party for kids in USA organized. Cho...   \n",
       "7   alpha         4  Court in #Bihar's Bettiah orders filing of FIR...   \n",
       "8   alpha         5  Income Tax officials say unaccounted income of...   \n",
       "\n",
       "                                             summary      date  retweets  \\\n",
       "2            Pollution Delhi Smoking Cigarettes Smog  09/11/17        32   \n",
       "6  properties DawoodIbrahim relatives auctioned I...  09/11/17        12   \n",
       "3         Halloween party kids USA chocolates sweets  10/11/17        42   \n",
       "7  Court Bihar Bettiah FIR Farooq Abdullah treaso...  10/11/17        96   \n",
       "8  IncomeTax unaccounted income 1400 crore uneart...  09/11/17       197   \n",
       "\n",
       "   favorites  \n",
       "2         29  \n",
       "6         41  \n",
       "3         41  \n",
       "7         23  \n",
       "8        250  "
      ]
     },
     "execution_count": 228,
     "metadata": {},
     "output_type": "execute_result"
    }
   ],
   "source": [
    "users.head()"
   ]
  },
  {
   "cell_type": "code",
   "execution_count": 229,
   "metadata": {
    "collapsed": true
   },
   "outputs": [],
   "source": [
    "users = users.reset_index(drop=True)"
   ]
  },
  {
   "cell_type": "code",
   "execution_count": 230,
   "metadata": {},
   "outputs": [
    {
     "data": {
      "text/html": [
       "<div>\n",
       "<style>\n",
       "    .dataframe thead tr:only-child th {\n",
       "        text-align: right;\n",
       "    }\n",
       "\n",
       "    .dataframe thead th {\n",
       "        text-align: left;\n",
       "    }\n",
       "\n",
       "    .dataframe tbody tr th {\n",
       "        vertical-align: top;\n",
       "    }\n",
       "</style>\n",
       "<table border=\"1\" class=\"dataframe\">\n",
       "  <thead>\n",
       "    <tr style=\"text-align: right;\">\n",
       "      <th></th>\n",
       "      <th>user_id</th>\n",
       "      <th>tweet_id</th>\n",
       "      <th>tweet</th>\n",
       "      <th>summary</th>\n",
       "      <th>date</th>\n",
       "      <th>retweets</th>\n",
       "      <th>favorites</th>\n",
       "    </tr>\n",
       "  </thead>\n",
       "  <tbody>\n",
       "    <tr>\n",
       "      <th>0</th>\n",
       "      <td>abc123</td>\n",
       "      <td>11</td>\n",
       "      <td>Roughly speaking, level of pollution in some p...</td>\n",
       "      <td>Pollution Delhi Smoking Cigarettes Smog</td>\n",
       "      <td>09/11/17</td>\n",
       "      <td>32</td>\n",
       "      <td>29</td>\n",
       "    </tr>\n",
       "    <tr>\n",
       "      <th>1</th>\n",
       "      <td>abc123</td>\n",
       "      <td>3</td>\n",
       "      <td>Three properties in the name of #DawoodIbrahim...</td>\n",
       "      <td>properties DawoodIbrahim relatives auctioned I...</td>\n",
       "      <td>09/11/17</td>\n",
       "      <td>12</td>\n",
       "      <td>41</td>\n",
       "    </tr>\n",
       "    <tr>\n",
       "      <th>2</th>\n",
       "      <td>alpha</td>\n",
       "      <td>10</td>\n",
       "      <td>Halloween party for kids in USA organized. Cho...</td>\n",
       "      <td>Halloween party kids USA chocolates sweets</td>\n",
       "      <td>10/11/17</td>\n",
       "      <td>42</td>\n",
       "      <td>41</td>\n",
       "    </tr>\n",
       "    <tr>\n",
       "      <th>3</th>\n",
       "      <td>alpha</td>\n",
       "      <td>4</td>\n",
       "      <td>Court in #Bihar's Bettiah orders filing of FIR...</td>\n",
       "      <td>Court Bihar Bettiah FIR Farooq Abdullah treaso...</td>\n",
       "      <td>10/11/17</td>\n",
       "      <td>96</td>\n",
       "      <td>23</td>\n",
       "    </tr>\n",
       "    <tr>\n",
       "      <th>4</th>\n",
       "      <td>alpha</td>\n",
       "      <td>5</td>\n",
       "      <td>Income Tax officials say unaccounted income of...</td>\n",
       "      <td>IncomeTax unaccounted income 1400 crore uneart...</td>\n",
       "      <td>09/11/17</td>\n",
       "      <td>197</td>\n",
       "      <td>250</td>\n",
       "    </tr>\n",
       "  </tbody>\n",
       "</table>\n",
       "</div>"
      ],
      "text/plain": [
       "  user_id  tweet_id                                              tweet  \\\n",
       "0  abc123        11  Roughly speaking, level of pollution in some p...   \n",
       "1  abc123         3  Three properties in the name of #DawoodIbrahim...   \n",
       "2   alpha        10  Halloween party for kids in USA organized. Cho...   \n",
       "3   alpha         4  Court in #Bihar's Bettiah orders filing of FIR...   \n",
       "4   alpha         5  Income Tax officials say unaccounted income of...   \n",
       "\n",
       "                                             summary      date  retweets  \\\n",
       "0            Pollution Delhi Smoking Cigarettes Smog  09/11/17        32   \n",
       "1  properties DawoodIbrahim relatives auctioned I...  09/11/17        12   \n",
       "2         Halloween party kids USA chocolates sweets  10/11/17        42   \n",
       "3  Court Bihar Bettiah FIR Farooq Abdullah treaso...  10/11/17        96   \n",
       "4  IncomeTax unaccounted income 1400 crore uneart...  09/11/17       197   \n",
       "\n",
       "   favorites  \n",
       "0         29  \n",
       "1         41  \n",
       "2         41  \n",
       "3         23  \n",
       "4        250  "
      ]
     },
     "execution_count": 230,
     "metadata": {},
     "output_type": "execute_result"
    }
   ],
   "source": [
    "users.head()"
   ]
  },
  {
   "cell_type": "code",
   "execution_count": 231,
   "metadata": {
    "collapsed": true
   },
   "outputs": [],
   "source": [
    "t1=users['summary']"
   ]
  },
  {
   "cell_type": "code",
   "execution_count": 232,
   "metadata": {
    "collapsed": true
   },
   "outputs": [],
   "source": [
    "t2=news['news_summary']"
   ]
  },
  {
   "cell_type": "code",
   "execution_count": 233,
   "metadata": {
    "collapsed": true
   },
   "outputs": [],
   "source": [
    "t1=t1.str.lower()"
   ]
  },
  {
   "cell_type": "code",
   "execution_count": 234,
   "metadata": {},
   "outputs": [
    {
     "data": {
      "text/plain": [
       "0              pollution delhi smoking cigarettes smog\n",
       "1    properties dawoodibrahim relatives auctioned i...\n",
       "2           halloween party kids usa chocolates sweets\n",
       "3    court bihar bettiah fir farooq abdullah treaso...\n",
       "4    incometax unaccounted income 1400 crore uneart...\n",
       "5    rohtak jail prisoner out on bail|prisoners fre...\n",
       "6               president trump visit china success us\n",
       "7    congress power mann ki baat government rahul g...\n",
       "8                     earthquake delhi 8.5 north india\n",
       "9    pm narendra modi meets new zealand pm jacinda ...\n",
       "Name: summary, dtype: object"
      ]
     },
     "execution_count": 234,
     "metadata": {},
     "output_type": "execute_result"
    }
   ],
   "source": [
    "t1"
   ]
  },
  {
   "cell_type": "code",
   "execution_count": 235,
   "metadata": {
    "collapsed": true
   },
   "outputs": [],
   "source": [
    "t2=t2.str.lower()"
   ]
  },
  {
   "cell_type": "code",
   "execution_count": 236,
   "metadata": {
    "collapsed": true
   },
   "outputs": [],
   "source": [
    "from nltk.tokenize import word_tokenize\n",
    "import nltk\n",
    "\n",
    "def process(doc):\n",
    "    tokens=word_tokenize(doc)\n",
    "    words=[w.lower() for w in tokens]\n",
    "    \n",
    "    porter=nltk.PorterStemmer()\n",
    "    stemmed_tokens=[porter.stem(t) for t in words]\n",
    "    \n",
    "    count=nltk.defaultdict(int)\n",
    "    for word in words:\n",
    "        count[word]+=1\n",
    "    return count"
   ]
  },
  {
   "cell_type": "code",
   "execution_count": 237,
   "metadata": {
    "collapsed": true
   },
   "outputs": [],
   "source": [
    "def jaccard_similarity(query, document):\n",
    "    intersection = set(query).intersection(set(document))\n",
    "    union = set(query).union(set(document))\n",
    "    return len(intersection)/len(set(query))"
   ]
  },
  {
   "cell_type": "code",
   "execution_count": 238,
   "metadata": {
    "collapsed": true
   },
   "outputs": [],
   "source": [
    "similarity=[]\n",
    "i=0\n",
    "for a in t1:\n",
    "    for b in t2:\n",
    "        a1=process(a)\n",
    "        b1=process(b)\n",
    "        x=jaccard_similarity(a1,b1)\n",
    "        similarity.append(x)\n",
    "    i=i+1"
   ]
  },
  {
   "cell_type": "code",
   "execution_count": 239,
   "metadata": {},
   "outputs": [
    {
     "name": "stdout",
     "output_type": "stream",
     "text": [
      "20\n"
     ]
    }
   ],
   "source": [
    "k=len(news.index)\n",
    "print(k)"
   ]
  },
  {
   "cell_type": "code",
   "execution_count": 248,
   "metadata": {
    "collapsed": true
   },
   "outputs": [],
   "source": [
    "i=0\n",
    "credibility=[]\n",
    "j=0\n",
    "while j<len(similarity):\n",
    "    f=0\n",
    "    tot=similarity[j]\n",
    "    while (f<k):\n",
    "        tot=max(tot,similarity[j])\n",
    "        j=j+1\n",
    "        f=f+1\n",
    "    credibility.append(tot)\n",
    "    total=0"
   ]
  },
  {
   "cell_type": "code",
   "execution_count": 249,
   "metadata": {},
   "outputs": [
    {
     "name": "stdout",
     "output_type": "stream",
     "text": [
      "0    abc123\n",
      "1    abc123\n",
      "2     alpha\n",
      "3     alpha\n",
      "4     alpha\n",
      "5      beta\n",
      "6    xyz123\n",
      "7    xyz123\n",
      "8      yudi\n",
      "9      yudi\n",
      "Name: user_id, dtype: object\n"
     ]
    }
   ],
   "source": [
    "print(users['user_id'])"
   ]
  },
  {
   "cell_type": "code",
   "execution_count": 250,
   "metadata": {},
   "outputs": [
    {
     "name": "stdout",
     "output_type": "stream",
     "text": [
      "0.6\n",
      "0.1111111111111111\n",
      "0.16666666666666666\n",
      "0.1111111111111111\n",
      "0.5454545454545454\n",
      "0.125\n",
      "0.8333333333333334\n",
      "0.7777777777777778\n",
      "0.4\n",
      "0.25\n"
     ]
    }
   ],
   "source": [
    "for m in credibility:\n",
    "    print(m)"
   ]
  },
  {
   "cell_type": "code",
   "execution_count": 251,
   "metadata": {},
   "outputs": [
    {
     "name": "stdout",
     "output_type": "stream",
     "text": [
      "10\n"
     ]
    }
   ],
   "source": [
    "print(len(users.index))"
   ]
  },
  {
   "cell_type": "code",
   "execution_count": 252,
   "metadata": {},
   "outputs": [
    {
     "name": "stdout",
     "output_type": "stream",
     "text": [
      "abc123\n"
     ]
    }
   ],
   "source": [
    "print(users['user_id'][0])"
   ]
  },
  {
   "cell_type": "code",
   "execution_count": 254,
   "metadata": {
    "collapsed": true
   },
   "outputs": [],
   "source": [
    "user=[]\n",
    "i=1\n",
    "m=credibility[0]\n",
    "n=1\n",
    "j=1\n",
    "while (i<len(users.index)):\n",
    "    if(users['user_id'][i-1]==users['user_id'][i]):\n",
    "        m+=credibility[j]\n",
    "        j+=1\n",
    "        n+=1\n",
    "    else:\n",
    "        if(m>0):\n",
    "            m=m/n\n",
    "            user.append(m)\n",
    "            m=0\n",
    "            n=1\n",
    "        m=credibility[j]\n",
    "        j+=1\n",
    "    i+=1\n",
    "    \n",
    "if(m>0):\n",
    "    m=m/n\n",
    "    user.append(m)"
   ]
  },
  {
   "cell_type": "code",
   "execution_count": 255,
   "metadata": {},
   "outputs": [
    {
     "name": "stdout",
     "output_type": "stream",
     "text": [
      "0.3555555555555555\n",
      "0.2744107744107744\n",
      "0.125\n",
      "0.8055555555555556\n",
      "0.325\n"
     ]
    }
   ],
   "source": [
    "for m in user:\n",
    "    print(m)"
   ]
  },
  {
   "cell_type": "code",
   "execution_count": 278,
   "metadata": {
    "collapsed": true
   },
   "outputs": [],
   "source": [
    "cred=[]\n",
    "for m in user:\n",
    "    if (m>=0.65):\n",
    "        cred.append(\"Highly Credible\")\n",
    "    elif(m>=0.40):\n",
    "        cred.append(\"Credible\")\n",
    "    elif(m>=0.20):\n",
    "        cred.append(\"Not Credible\")\n",
    "    else:\n",
    "        cred.append(\"Highly Uncredible\")"
   ]
  },
  {
   "cell_type": "code",
   "execution_count": 279,
   "metadata": {},
   "outputs": [
    {
     "name": "stdout",
     "output_type": "stream",
     "text": [
      "Not Credible\n",
      "Not Credible\n",
      "Highly Uncredible\n",
      "Highly Credible\n",
      "Not Credible\n"
     ]
    }
   ],
   "source": [
    "for m in cred:\n",
    "    print(m)"
   ]
  },
  {
   "cell_type": "code",
   "execution_count": 280,
   "metadata": {
    "collapsed": true
   },
   "outputs": [],
   "source": [
    "from astropy.table import Table"
   ]
  },
  {
   "cell_type": "code",
   "execution_count": 281,
   "metadata": {
    "collapsed": true
   },
   "outputs": [],
   "source": [
    "t = Table([prof['user_id'], cred], names=('User', 'Credibility'), meta={'name': 'first table'})"
   ]
  },
  {
   "cell_type": "code",
   "execution_count": 282,
   "metadata": {},
   "outputs": [
    {
     "data": {
      "text/html": [
       "&lt;Table length=5&gt;\n",
       "<table id=\"table140015743469048\" class=\"table-striped table-bordered table-condensed\">\n",
       "<thead><tr><th>User</th><th>Credibility</th></tr></thead>\n",
       "<thead><tr><th>object</th><th>str17</th></tr></thead>\n",
       "<tr><td>abc123</td><td>Not Credible</td></tr>\n",
       "<tr><td>alpha</td><td>Not Credible</td></tr>\n",
       "<tr><td>beta</td><td>Highly Uncredible</td></tr>\n",
       "<tr><td>xyz123</td><td>Highly Credible</td></tr>\n",
       "<tr><td>yudi</td><td>Not Credible</td></tr>\n",
       "</table>"
      ],
      "text/plain": [
       "<Table length=5>\n",
       " User     Credibility   \n",
       "object       str17      \n",
       "------ -----------------\n",
       "abc123      Not Credible\n",
       " alpha      Not Credible\n",
       "  beta Highly Uncredible\n",
       "xyz123   Highly Credible\n",
       "  yudi      Not Credible"
      ]
     },
     "execution_count": 282,
     "metadata": {},
     "output_type": "execute_result"
    }
   ],
   "source": [
    "t"
   ]
  },
  {
   "cell_type": "code",
   "execution_count": 262,
   "metadata": {},
   "outputs": [
    {
     "data": {
      "text/html": [
       "&lt;Table length=5&gt;\n",
       "<table id=\"table140015742599240-633454\" class=\"table-striped table-bordered table-condensed\">\n",
       "<thead><tr><th>idx</th><th>User</th><th>Credibility</th></tr></thead>\n",
       "<tr><td>0</td><td>abc123</td><td>Not Credible</td></tr>\n",
       "<tr><td>1</td><td>xyz123</td><td>Not Credible</td></tr>\n",
       "<tr><td>2</td><td>yudi</td><td>Highly Uncredible</td></tr>\n",
       "<tr><td>3</td><td>alpha</td><td>Highly Credible</td></tr>\n",
       "<tr><td>4</td><td>beta</td><td>Not Credible</td></tr>\n",
       "</table><style>table.dataTable {clear: both; width: auto !important; margin: 0 !important;}\n",
       ".dataTables_info, .dataTables_length, .dataTables_filter, .dataTables_paginate{\n",
       "display: inline-block; margin-right: 1em; }\n",
       ".paginate_button { margin-right: 5px; }\n",
       "</style>\n",
       "<script>\n",
       "\n",
       "var astropy_sort_num = function(a, b) {\n",
       "    var a_num = parseFloat(a);\n",
       "    var b_num = parseFloat(b);\n",
       "\n",
       "    if (isNaN(a_num) && isNaN(b_num))\n",
       "        return ((a < b) ? -1 : ((a > b) ? 1 : 0));\n",
       "    else if (!isNaN(a_num) && !isNaN(b_num))\n",
       "        return ((a_num < b_num) ? -1 : ((a_num > b_num) ? 1 : 0));\n",
       "    else\n",
       "        return isNaN(a_num) ? -1 : 1;\n",
       "}\n",
       "\n",
       "require.config({paths: {\n",
       "    datatables: 'https://cdn.datatables.net/1.10.12/js/jquery.dataTables.min'\n",
       "}});\n",
       "require([\"datatables\"], function(){\n",
       "    console.log(\"$('#table140015742599240-633454').dataTable()\");\n",
       "    \n",
       "jQuery.extend( jQuery.fn.dataTableExt.oSort, {\n",
       "    \"optionalnum-asc\": astropy_sort_num,\n",
       "    \"optionalnum-desc\": function (a,b) { return -astropy_sort_num(a, b); }\n",
       "});\n",
       "\n",
       "    $('#table140015742599240-633454').dataTable({\n",
       "        order: [],\n",
       "        pageLength: 50,\n",
       "        lengthMenu: [[10, 25, 50, 100, 500, 1000, -1], [10, 25, 50, 100, 500, 1000, 'All']],\n",
       "        pagingType: \"full_numbers\",\n",
       "        columnDefs: [{targets: [0], type: \"optionalnum\"}]\n",
       "    });\n",
       "});\n",
       "</script>\n"
      ],
      "text/plain": [
       "<IPython.core.display.HTML object>"
      ]
     },
     "execution_count": 262,
     "metadata": {},
     "output_type": "execute_result"
    }
   ],
   "source": [
    "t.show_in_notebook()"
   ]
  },
  {
   "cell_type": "markdown",
   "metadata": {},
   "source": [
    "# Credibility on the basis of profile and tweet features"
   ]
  },
  {
   "cell_type": "code",
   "execution_count": 263,
   "metadata": {
    "collapsed": true
   },
   "outputs": [],
   "source": [
    "def check_valid(url):\n",
    "    import urllib\n",
    "    resp = urllib.request.urlopen(url)\n",
    "    print(resp.url)\n",
    "    return resp.getcode()"
   ]
  },
  {
   "cell_type": "code",
   "execution_count": 265,
   "metadata": {
    "collapsed": true
   },
   "outputs": [],
   "source": [
    "points=[]\n",
    "i=0\n",
    "while (i<len(prof.index)):\n",
    "    point=0\n",
    "    if(prof['verified'][i]==True):\n",
    "        point+=2\n",
    "    ratio=prof['followers'][i]/prof['following'][i]\n",
    "    if(ratio>0.8):\n",
    "        point+=2\n",
    "    elif(ratio>0.4):\n",
    "        point+=1\n",
    "    if(prof['linked'][i]==True):\n",
    "        point+=1\n",
    "    if(len(str(prof['website'][i]))>5):\n",
    "        point+=1\n",
    "    if(len(str(prof['description'][i]))>5):\n",
    "        point+=1\n",
    "    points.append(point)\n",
    "    i+=1"
   ]
  },
  {
   "cell_type": "code",
   "execution_count": 266,
   "metadata": {},
   "outputs": [
    {
     "name": "stdout",
     "output_type": "stream",
     "text": [
      "6\n",
      "3\n",
      "1\n",
      "1\n",
      "7\n"
     ]
    }
   ],
   "source": [
    "for m in points:\n",
    "    print(m)"
   ]
  },
  {
   "cell_type": "code",
   "execution_count": 267,
   "metadata": {
    "collapsed": true
   },
   "outputs": [],
   "source": [
    "import re\n",
    "i=1\n",
    "point=0\n",
    "n=1\n",
    "if(users['retweets'][i-1]>75):\n",
    "    point+=1\n",
    "if(users['favorites'][i-1]>75):\n",
    "    point+=1\n",
    "points[i-1]+=point\n",
    "while (i<len(points)):\n",
    "    if(users['user_id'][i-1]!=users['user_id'][i]):\n",
    "        point=0\n",
    "        n=1\n",
    "    else n+=1\n",
    "    if(users['retweets'][i]>75):\n",
    "        point+=1\n",
    "    if(users['favorites'][i]>75):\n",
    "        point+=1\n",
    "    if(re.search(\"(?P<url>https?://[^\\s]+)\", users['tweet'][i])==1):\n",
    "        url=re.search(\"(?P<url>https?://[^\\s]+)\", users['tweet'][i]).group(\"url\")\n",
    "        if(url_resolve(url)==200):\n",
    "            point+=1\n",
    "    points[i]+=(point/n)\n",
    "    i+=1"
   ]
  },
  {
   "cell_type": "code",
   "execution_count": 268,
   "metadata": {},
   "outputs": [
    {
     "name": "stdout",
     "output_type": "stream",
     "text": [
      "6\n",
      "3\n",
      "1\n",
      "2\n",
      "10\n"
     ]
    }
   ],
   "source": [
    "for m in points:\n",
    "    print(m)"
   ]
  },
  {
   "cell_type": "code",
   "execution_count": 269,
   "metadata": {},
   "outputs": [
    {
     "name": "stdout",
     "output_type": "stream",
     "text": [
      "Credibility only on the basis of tweets 0.6\n",
      "Credibility after considering other factors 0.6\n",
      "Credibility only on the basis of tweets 0.1111111111111111\n",
      "Credibility after considering other factors 0.15833333333333333\n",
      "Credibility only on the basis of tweets 0.16666666666666666\n",
      "Credibility after considering other factors 0.15\n",
      "Credibility only on the basis of tweets 0.1111111111111111\n",
      "Credibility after considering other factors 0.13333333333333333\n",
      "Credibility only on the basis of tweets 0.5454545454545454\n",
      "Credibility after considering other factors 0.6590909090909091\n"
     ]
    }
   ],
   "source": [
    "i=0\n",
    "while (i<len(points)):\n",
    "    print(\"Credibility only on the basis of tweets\",credibility[i])\n",
    "    points[i]=points[i]/10\n",
    "    credibility[i]=credibility[i]*0.75+0.25*points[i]\n",
    "    print(\"Credibility after considering other factors\",credibility[i])\n",
    "    i+=1"
   ]
  },
  {
   "cell_type": "code",
   "execution_count": 270,
   "metadata": {
    "collapsed": true
   },
   "outputs": [],
   "source": [
    "cred_matrix=[]\n",
    "for m in user:\n",
    "    if (m>=0.65):\n",
    "        cred_matrix.append(\"Highly Credible\")\n",
    "    elif(m>=0.40):\n",
    "        cred_matrix.append(\"Credible\")\n",
    "    elif(m>=0.20):\n",
    "        cred_matrix.append(\"Not Credible\")\n",
    "    else:\n",
    "        cred_matrix.append(\"Highly Uncredible\")"
   ]
  },
  {
   "cell_type": "code",
   "execution_count": 283,
   "metadata": {
    "collapsed": true
   },
   "outputs": [],
   "source": [
    "t8 = Table([prof['user_id'], cred_matrix], names=('User', 'Credibility'), meta={'name': 'second table'})"
   ]
  },
  {
   "cell_type": "code",
   "execution_count": 284,
   "metadata": {},
   "outputs": [
    {
     "data": {
      "text/html": [
       "&lt;Table length=5&gt;\n",
       "<table id=\"table140015743470784\" class=\"table-striped table-bordered table-condensed\">\n",
       "<thead><tr><th>User</th><th>Credibility</th></tr></thead>\n",
       "<thead><tr><th>object</th><th>str17</th></tr></thead>\n",
       "<tr><td>abc123</td><td>Not Credible</td></tr>\n",
       "<tr><td>alpha</td><td>Not Credible</td></tr>\n",
       "<tr><td>beta</td><td>Highly Uncredible</td></tr>\n",
       "<tr><td>xyz123</td><td>Highly Credible</td></tr>\n",
       "<tr><td>yudi</td><td>Not Credible</td></tr>\n",
       "</table>"
      ],
      "text/plain": [
       "<Table length=5>\n",
       " User     Credibility   \n",
       "object       str17      \n",
       "------ -----------------\n",
       "abc123      Not Credible\n",
       " alpha      Not Credible\n",
       "  beta Highly Uncredible\n",
       "xyz123   Highly Credible\n",
       "  yudi      Not Credible"
      ]
     },
     "execution_count": 284,
     "metadata": {},
     "output_type": "execute_result"
    }
   ],
   "source": [
    "t8"
   ]
  },
  {
   "cell_type": "markdown",
   "metadata": {},
   "source": [
    "# Building User Profiles based on their interests"
   ]
  },
  {
   "cell_type": "code",
   "execution_count": 123,
   "metadata": {
    "collapsed": true
   },
   "outputs": [],
   "source": [
    "text_files=['/home/HDUSER/data/sports','/home/HDUSER/data/entertainment','/home/HDUSER/data/health','/home/HDUSER/data/lifestyle','/home/HDUSER/data/politics','/home/HDUSER/data/relationships','/home/HDUSER/data/technology']"
   ]
  },
  {
   "cell_type": "code",
   "execution_count": 124,
   "metadata": {
    "collapsed": true
   },
   "outputs": [],
   "source": [
    "sports=\"\"\n",
    "entertainment=\"\"\n",
    "health=\"\"\n",
    "lifestyle=\"\"\n",
    "politics=\"\"\n",
    "relationships=\"\"\n",
    "technology=\"\"\n",
    "sports = open(text_files[0], 'r').read()\n",
    "entertainment=open(text_files[1], 'r').read()\n",
    "health=open(text_files[2], 'r').read()\n",
    "lifestyle=open(text_files[3], 'r').read()\n",
    "politics=open(text_files[4], 'r').read()\n",
    "relationships=open(text_files[5], 'r').read()\n",
    "technology=open(text_files[6], 'r').read()"
   ]
  },
  {
   "cell_type": "code",
   "execution_count": 125,
   "metadata": {
    "collapsed": true
   },
   "outputs": [],
   "source": [
    "category=[\"Sports\",\"Entertainment\",\"Health\",\"Lifestyle\",\"Politics\",\"Relationships\",\"Technology\"]"
   ]
  },
  {
   "cell_type": "code",
   "execution_count": 126,
   "metadata": {
    "collapsed": true
   },
   "outputs": [],
   "source": [
    "categories=[sports,entertainment,health,lifestyle,politics,relationships,technology]"
   ]
  },
  {
   "cell_type": "code",
   "execution_count": 127,
   "metadata": {
    "collapsed": true
   },
   "outputs": [],
   "source": [
    "a=users['summary']\n",
    "a=a.str.lower()"
   ]
  },
  {
   "cell_type": "code",
   "execution_count": 128,
   "metadata": {
    "collapsed": true
   },
   "outputs": [],
   "source": [
    "def get_similarity(dict1,dict2):\n",
    "    all_words_list=[]\n",
    "    for key in dict1:\n",
    "        all_words_list.append(key)\n",
    "    for key in dict2:\n",
    "        all_words_list.append(key)\n",
    "    all_words_list_size=len(all_words_list)\n",
    "    v1=np.zeros(all_words_list_size,dtype=np.int)\n",
    "    v2=np.zeros(all_words_list_size,dtype=np.int)\n",
    "    i=0\n",
    "    for key in all_words_list:\n",
    "        v1[i]=dict1.get(key,0)\n",
    "        v2[i]=dict2.get(key,0)\n",
    "        i=i+1\n",
    "    return cos_sim(v1,v2)"
   ]
  },
  {
   "cell_type": "code",
   "execution_count": 129,
   "metadata": {
    "collapsed": true
   },
   "outputs": [],
   "source": [
    "def cos_sim(a,b):\n",
    "    dot_prod=np.dot(a,b)\n",
    "    norm_a=np.linalg.norm(a)\n",
    "    norm_b=np.linalg.norm(b)\n",
    "    if(norm_a and norm_b):\n",
    "        return dot_prod/(norm_a*norm_b)"
   ]
  },
  {
   "cell_type": "code",
   "execution_count": null,
   "metadata": {},
   "outputs": [],
   "source": [
    "j=0\n",
    "t4 = Table(names=('User', 'Sports', 'Entertainment','Health','Lifestyle','Politics','Relationships','Technology'), dtype=('S10','f8', 'f8', 'f8','f8', 'f8', 'f8','f8'))\n",
    "for x in t1:\n",
    "    i=0\n",
    "    user_p=[users['user_id'][j]]\n",
    "    print(\"\\n\\n\\n\\nUSER  --> \",users['user_id'][j],\"\\n------------------------------\")\n",
    "\n",
    "    x=process(x)\n",
    "    for y in categories:\n",
    "        y=process(y)\n",
    "        sim=get_similarity(x,y)\n",
    "        print(sim)\n",
    "        user_p.append(sim)\n",
    "        i+=1\n",
    "    j+=1\n",
    "    t4.add_row(user_p)"
   ]
  },
  {
   "cell_type": "code",
   "execution_count": null,
   "metadata": {},
   "outputs": [],
   "source": [
    "t4.sort('User')\n",
    "print(t4)"
   ]
  },
  {
   "cell_type": "code",
   "execution_count": null,
   "metadata": {},
   "outputs": [],
   "source": [
    "t4.show_in_notebook()"
   ]
  },
  {
   "cell_type": "code",
   "execution_count": 132,
   "metadata": {
    "collapsed": true
   },
   "outputs": [],
   "source": [
    "i=0\n",
    "while i<len(t4)-1:\n",
    "    if(t4[i][0]==t4[i+1][0]):\n",
    "        j=1\n",
    "        while j<8:\n",
    "            t4[i][j]+=t4[i+1][j]\n",
    "            j+=1\n",
    "        t4.remove_row(i+1)\n",
    "        i=i-1\n",
    "    i+=1"
   ]
  },
  {
   "cell_type": "code",
   "execution_count": null,
   "metadata": {},
   "outputs": [],
   "source": [
    "print(t4)"
   ]
  },
  {
   "cell_type": "code",
   "execution_count": null,
   "metadata": {},
   "outputs": [],
   "source": [
    "i=0\n",
    "t3 = Table(names=('User', 'Interest'), dtype=('S10','S15'))\n",
    "while i<len(t4):\n",
    "    j=1\n",
    "    user_p=[\"abc123\"]\n",
    "    #user_p=[prof['user_id'][i]]\n",
    "    maxval=t4[i][j]\n",
    "    maxindex=j\n",
    "    while j<8:\n",
    "        if(t4[i][j]>maxval):\n",
    "            maxval=t4[i][j]\n",
    "            maxindex=j\n",
    "        j+=1\n",
    "    user_p.append(category[maxindex-1])\n",
    "    t3.add_row(user_p)\n",
    "    i+=1\n",
    "    \n",
    "print('\\n\\n\\n\\n',t3)"
   ]
  },
  {
   "cell_type": "code",
   "execution_count": null,
   "metadata": {},
   "outputs": [],
   "source": [
    "prof['user_id'][0]"
   ]
  },
  {
   "cell_type": "code",
   "execution_count": null,
   "metadata": {},
   "outputs": [],
   "source": [
    "t3.show_in_notebook()"
   ]
  },
  {
   "cell_type": "code",
   "execution_count": null,
   "metadata": {
    "collapsed": true
   },
   "outputs": [],
   "source": [
    "import csv\n",
    "from astropy.io import ascii\n",
    "ascii.write(t3, 'user_profile.csv', format='csv', fast_writer=False)"
   ]
  },
  {
   "cell_type": "code",
   "execution_count": null,
   "metadata": {
    "collapsed": true
   },
   "outputs": [],
   "source": []
  }
 ],
 "metadata": {
  "kernelspec": {
   "display_name": "Python 3",
   "language": "python",
   "name": "python3"
  },
  "language_info": {
   "codemirror_mode": {
    "name": "ipython",
    "version": 3
   },
   "file_extension": ".py",
   "mimetype": "text/x-python",
   "name": "python",
   "nbconvert_exporter": "python",
   "pygments_lexer": "ipython3",
   "version": "3.6.3"
  }
 },
 "nbformat": 4,
 "nbformat_minor": 2
}
